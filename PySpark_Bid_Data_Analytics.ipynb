{
  "nbformat": 4,
  "nbformat_minor": 0,
  "metadata": {
    "kernelspec": {
      "display_name": "Python 3",
      "language": "python",
      "name": "python3"
    },
    "language_info": {
      "codemirror_mode": {
        "name": "ipython",
        "version": 3
      },
      "file_extension": ".py",
      "mimetype": "text/x-python",
      "name": "python",
      "nbconvert_exporter": "python",
      "pygments_lexer": "ipython3",
      "version": "3.7.3"
    },
    "colab": {
      "name": "PySpark Bid Data Analytics ",
      "provenance": []
    }
  },
  "cells": [
    {
      "cell_type": "code",
      "metadata": {
        "id": "JVfvCDxj6Hwq",
        "colab_type": "code",
        "colab": {
          "base_uri": "https://localhost:8080/",
          "height": 438
        },
        "outputId": "8a3b675b-4f11-48bb-fc3b-11a252e63508"
      },
      "source": [
        "!pip install findspark\n",
        "\n",
        "import findspark\n",
        "findspark.init()\n",
        "\n",
        "import pyspark\n",
        "from pyspark.sql import SparkSession\n",
        "spark = SparkSession\\\n",
        "        .builder\\\n",
        "        .appName(\"MidtermTakeHome\")\\\n",
        "        .getOrCreate()\n",
        "spark"
      ],
      "execution_count": null,
      "outputs": [
        {
          "output_type": "stream",
          "text": [
            "Collecting findspark\n",
            "  Downloading https://files.pythonhosted.org/packages/b1/c8/e6e1f6a303ae5122dc28d131b5a67c5eb87cbf8f7ac5b9f87764ea1b1e1e/findspark-1.3.0-py2.py3-none-any.whl\n",
            "Installing collected packages: findspark\n",
            "Successfully installed findspark-1.3.0\n"
          ],
          "name": "stdout"
        },
        {
          "output_type": "error",
          "ename": "ValueError",
          "evalue": "ignored",
          "traceback": [
            "\u001b[0;31m---------------------------------------------------------------------------\u001b[0m",
            "\u001b[0;31mValueError\u001b[0m                                Traceback (most recent call last)",
            "\u001b[0;32m<ipython-input-6-75ebd6e60a18>\u001b[0m in \u001b[0;36m<module>\u001b[0;34m()\u001b[0m\n\u001b[1;32m      2\u001b[0m \u001b[0;34m\u001b[0m\u001b[0m\n\u001b[1;32m      3\u001b[0m \u001b[0;32mimport\u001b[0m \u001b[0mfindspark\u001b[0m\u001b[0;34m\u001b[0m\u001b[0;34m\u001b[0m\u001b[0m\n\u001b[0;32m----> 4\u001b[0;31m \u001b[0mfindspark\u001b[0m\u001b[0;34m.\u001b[0m\u001b[0minit\u001b[0m\u001b[0;34m(\u001b[0m\u001b[0;34m)\u001b[0m\u001b[0;34m\u001b[0m\u001b[0;34m\u001b[0m\u001b[0m\n\u001b[0m\u001b[1;32m      5\u001b[0m \u001b[0;34m\u001b[0m\u001b[0m\n\u001b[1;32m      6\u001b[0m \u001b[0;32mimport\u001b[0m \u001b[0mpyspark\u001b[0m\u001b[0;34m\u001b[0m\u001b[0;34m\u001b[0m\u001b[0m\n",
            "\u001b[0;32m/usr/local/lib/python3.6/dist-packages/findspark.py\u001b[0m in \u001b[0;36minit\u001b[0;34m(spark_home, python_path, edit_rc, edit_profile)\u001b[0m\n\u001b[1;32m    120\u001b[0m \u001b[0;34m\u001b[0m\u001b[0m\n\u001b[1;32m    121\u001b[0m     \u001b[0;32mif\u001b[0m \u001b[0;32mnot\u001b[0m \u001b[0mspark_home\u001b[0m\u001b[0;34m:\u001b[0m\u001b[0;34m\u001b[0m\u001b[0;34m\u001b[0m\u001b[0m\n\u001b[0;32m--> 122\u001b[0;31m         \u001b[0mspark_home\u001b[0m \u001b[0;34m=\u001b[0m \u001b[0mfind\u001b[0m\u001b[0;34m(\u001b[0m\u001b[0;34m)\u001b[0m\u001b[0;34m\u001b[0m\u001b[0;34m\u001b[0m\u001b[0m\n\u001b[0m\u001b[1;32m    123\u001b[0m \u001b[0;34m\u001b[0m\u001b[0m\n\u001b[1;32m    124\u001b[0m     \u001b[0;32mif\u001b[0m \u001b[0;32mnot\u001b[0m \u001b[0mpython_path\u001b[0m\u001b[0;34m:\u001b[0m\u001b[0;34m\u001b[0m\u001b[0;34m\u001b[0m\u001b[0m\n",
            "\u001b[0;32m/usr/local/lib/python3.6/dist-packages/findspark.py\u001b[0m in \u001b[0;36mfind\u001b[0;34m()\u001b[0m\n\u001b[1;32m     31\u001b[0m \u001b[0;34m\u001b[0m\u001b[0m\n\u001b[1;32m     32\u001b[0m     \u001b[0;32mif\u001b[0m \u001b[0;32mnot\u001b[0m \u001b[0mspark_home\u001b[0m\u001b[0;34m:\u001b[0m\u001b[0;34m\u001b[0m\u001b[0;34m\u001b[0m\u001b[0m\n\u001b[0;32m---> 33\u001b[0;31m         raise ValueError(\"Couldn't find Spark, make sure SPARK_HOME env is set\"\n\u001b[0m\u001b[1;32m     34\u001b[0m                          \" or Spark is in an expected location (e.g. from homebrew installation).\")\n\u001b[1;32m     35\u001b[0m \u001b[0;34m\u001b[0m\u001b[0m\n",
            "\u001b[0;31mValueError\u001b[0m: Couldn't find Spark, make sure SPARK_HOME env is set or Spark is in an expected location (e.g. from homebrew installation)."
          ]
        }
      ]
    },
    {
      "cell_type": "code",
      "metadata": {
        "id": "RRiELDSC6OIA",
        "colab_type": "code",
        "colab": {}
      },
      "source": [
        ""
      ],
      "execution_count": null,
      "outputs": []
    },
    {
      "cell_type": "code",
      "metadata": {
        "id": "XseE22CZ6Hwt",
        "colab_type": "code",
        "colab": {}
      },
      "source": [
        "df = spark.read.option(\"header\", \"true\").csv(\"C:/data_Q1_2019/*.csv\")"
      ],
      "execution_count": null,
      "outputs": []
    },
    {
      "cell_type": "code",
      "metadata": {
        "id": "DltW5P0c6Hww",
        "colab_type": "code",
        "colab": {},
        "outputId": "69f002dd-0e0e-4079-98e6-dc6bc43dd23d"
      },
      "source": [
        "df.show(5)"
      ],
      "execution_count": null,
      "outputs": [
        {
          "output_type": "stream",
          "text": [
            "+--------------------+----------+--------------------+\n",
            "|               model|  features|     Scaled_features|\n",
            "+--------------------+----------+--------------------+\n",
            "|HGST HMS5C4040ALE640|[0.232942]|[0.00788089736996...|\n",
            "|HGST HMS5C4040BLE640|[0.342336]|[0.01158191688078...|\n",
            "|HGST HUH721212ALE600|[2.599715]|[0.0879535983470046]|\n",
            "|HGST HUH721212ALN604|[0.562081]|[0.01901633314131...|\n",
            "|HGST HUH728080ALE600|[1.169897]|[0.03957997351454...|\n",
            "+--------------------+----------+--------------------+\n",
            "only showing top 5 rows\n",
            "\n"
          ],
          "name": "stdout"
        }
      ]
    },
    {
      "cell_type": "code",
      "metadata": {
        "id": "6_KyDEap6Hwy",
        "colab_type": "code",
        "colab": {}
      },
      "source": [
        "df.createOrReplaceTempView(\"records\")"
      ],
      "execution_count": null,
      "outputs": []
    },
    {
      "cell_type": "code",
      "metadata": {
        "id": "WZuW6s4p6Hw0",
        "colab_type": "code",
        "colab": {},
        "outputId": "a460b3c9-2e59-45d0-cbf4-59dcbacda021"
      },
      "source": [
        "q1=spark.sql(\"SELECT model, count(*) AS drivedays FROM records GROUP BY model\")\n",
        "q1.show()"
      ],
      "execution_count": null,
      "outputs": [
        {
          "output_type": "stream",
          "text": [
            "+--------------------+---------+\n",
            "|               model|drivedays|\n",
            "+--------------------+---------+\n",
            "|         ST4000DM000|  1989429|\n",
            "|       ST12000NM0007|  2955025|\n",
            "|         ST8000DM005|     2250|\n",
            "|          ST320LT007|       85|\n",
            "| TOSHIBA MQ01ABF050M|    32624|\n",
            "|        ST8000NM0055|  1294451|\n",
            "|Seagate BarraCuda...|      265|\n",
            "| TOSHIBA MG07ACA14TA|   109404|\n",
            "|        WDC WD60EFRX|    30523|\n",
            "|         ST8000DM002|   888741|\n",
            "|         ST4000DM005|     4848|\n",
            "|         DELLBOSS VD|      540|\n",
            "|HGST HUS726040ALE610|     2598|\n",
            "|     TOSHIBA HDWF180|     1798|\n",
            "|HGST HMS5C4040ALE640|   313383|\n",
            "|HGST HUH721010ALE600|     1245|\n",
            "| TOSHIBA MD04ABA500V|     4050|\n",
            "| TOSHIBA MD04ABA400V|    12662|\n",
            "|       ST10000NM0086|   108555|\n",
            "|      WDC WD2500AAJS|       88|\n",
            "+--------------------+---------+\n",
            "only showing top 20 rows\n",
            "\n"
          ],
          "name": "stdout"
        }
      ]
    },
    {
      "cell_type": "code",
      "metadata": {
        "id": "xK5zzq5r6Hw3",
        "colab_type": "code",
        "colab": {},
        "outputId": "df2b1645-1a12-4f19-c3a5-18c64aab1595"
      },
      "source": [
        "q2=spark.sql(\"SELECT model, count(*) AS failures FROM records WHERE failure = 1 GROUP BY model\")\n",
        "q2.show()"
      ],
      "execution_count": null,
      "outputs": [
        {
          "output_type": "stream",
          "text": [
            "+--------------------+--------+\n",
            "|               model|failures|\n",
            "+--------------------+--------+\n",
            "|         ST4000DM000|     107|\n",
            "|       ST12000NM0007|     180|\n",
            "| TOSHIBA MQ01ABF050M|       3|\n",
            "|        ST8000NM0055|      58|\n",
            "|        WDC WD60EFRX|       1|\n",
            "| TOSHIBA MG07ACA14TA|       1|\n",
            "|         ST8000DM002|      29|\n",
            "|HGST HMS5C4040ALE640|       2|\n",
            "|       ST10000NM0086|       3|\n",
            "|  TOSHIBA MQ01ABF050|      14|\n",
            "|HGST HMS5C4040BLE640|      11|\n",
            "|         ST6000DX000|       1|\n",
            "|      WDC WD5000LPVX|       2|\n",
            "|          ST500LM030|       9|\n",
            "|       ST500LM012 HN|      12|\n",
            "|HGST HUH728080ALE600|       3|\n",
            "|HGST HUH721212ALE600|       1|\n",
            "|      WDC WD5000LPCX|       2|\n",
            "|         ST8000DM004|       1|\n",
            "|HGST HUH721212ALN604|       4|\n",
            "+--------------------+--------+\n",
            "\n"
          ],
          "name": "stdout"
        }
      ]
    },
    {
      "cell_type": "code",
      "metadata": {
        "id": "qhXCBDud6Hw6",
        "colab_type": "code",
        "colab": {},
        "outputId": "7c570221-d5d0-4a1f-f4b0-844c96a85368"
      },
      "source": [
        "q3=spark.sql(\"SELECT model, count(*) AS count FROM records WHERE date = '2019-03-31' GROUP BY model\")\n",
        "q3.show()"
      ],
      "execution_count": null,
      "outputs": [
        {
          "output_type": "stream",
          "text": [
            "+--------------------+-----+\n",
            "|               model|count|\n",
            "+--------------------+-----+\n",
            "|         ST4000DM000|19785|\n",
            "|       ST12000NM0007|34708|\n",
            "|         ST8000DM005|   25|\n",
            "| TOSHIBA MQ01ABF050M|  377|\n",
            "|        ST8000NM0055|14381|\n",
            "|Seagate BarraCuda...|    3|\n",
            "| TOSHIBA MG07ACA14TA| 1220|\n",
            "|        WDC WD60EFRX|   89|\n",
            "|         ST8000DM002| 9874|\n",
            "|         ST4000DM005|   43|\n",
            "|         DELLBOSS VD|   20|\n",
            "|HGST HUS726040ALE610|   28|\n",
            "|     TOSHIBA HDWF180|   20|\n",
            "|HGST HMS5C4040ALE640| 2557|\n",
            "|HGST HUH721010ALE600|   17|\n",
            "| TOSHIBA MD04ABA500V|   45|\n",
            "| TOSHIBA MD04ABA400V|   99|\n",
            "|       ST10000NM0086| 1203|\n",
            "|  TOSHIBA MQ01ABF050|  515|\n",
            "|          ST500LM021|   14|\n",
            "+--------------------+-----+\n",
            "only showing top 20 rows\n",
            "\n"
          ],
          "name": "stdout"
        }
      ]
    },
    {
      "cell_type": "code",
      "metadata": {
        "id": "41PJ0To86Hw8",
        "colab_type": "code",
        "colab": {},
        "outputId": "dea3b89b-6427-4fbd-96e8-15c7ee38f41f"
      },
      "source": [
        "q4 = q1.join(q2, ['model'])\n",
        "q4.show(5)"
      ],
      "execution_count": null,
      "outputs": [
        {
          "output_type": "stream",
          "text": [
            "+-------------------+---------+--------+\n",
            "|              model|drivedays|failures|\n",
            "+-------------------+---------+--------+\n",
            "|        ST4000DM000|  1989429|     107|\n",
            "|      ST12000NM0007|  2955025|     180|\n",
            "|TOSHIBA MQ01ABF050M|    32624|       3|\n",
            "|       ST8000NM0055|  1294451|      58|\n",
            "|TOSHIBA MG07ACA14TA|   109404|       1|\n",
            "+-------------------+---------+--------+\n",
            "only showing top 5 rows\n",
            "\n"
          ],
          "name": "stdout"
        }
      ]
    },
    {
      "cell_type": "code",
      "metadata": {
        "id": "Mv0PpGAe6HxA",
        "colab_type": "code",
        "colab": {}
      },
      "source": [
        "q5 = q4.join(q3, ['model'])"
      ],
      "execution_count": null,
      "outputs": []
    },
    {
      "cell_type": "code",
      "metadata": {
        "id": "y4D1WU506HxD",
        "colab_type": "code",
        "colab": {}
      },
      "source": [
        "q5.createOrReplaceTempView(\"record_1\")"
      ],
      "execution_count": null,
      "outputs": []
    },
    {
      "cell_type": "code",
      "metadata": {
        "id": "uen1Fuvq6HxF",
        "colab_type": "code",
        "colab": {},
        "outputId": "7b040037-3b53-49ef-a91d-6db47a3a9ec5"
      },
      "source": [
        "q6=spark.sql(\"SELECT model, drivedays, failures, 100.0 * (1.0 * failures) / (drivedays / 365.0) AS annual_failure_rate FROM record_1 ORDER BY model\")\n",
        "q6.show()"
      ],
      "execution_count": null,
      "outputs": [
        {
          "output_type": "stream",
          "text": [
            "+--------------------+---------+--------+-------------------+\n",
            "|               model|drivedays|failures|annual_failure_rate|\n",
            "+--------------------+---------+--------+-------------------+\n",
            "|HGST HMS5C4040ALE640|   313383|       2|           0.232942|\n",
            "|HGST HMS5C4040BLE640|  1172824|      11|           0.342336|\n",
            "|HGST HUH721212ALE600|    14040|       1|           2.599715|\n",
            "|HGST HUH721212ALN604|   259749|       4|           0.562081|\n",
            "|HGST HUH728080ALE600|    93598|       3|           1.169897|\n",
            "|       ST10000NM0086|   108555|       3|           1.008705|\n",
            "|       ST12000NM0007|  2955025|     180|           2.223331|\n",
            "|         ST4000DM000|  1989429|     107|           1.963126|\n",
            "|       ST500LM012 HN|    50619|      12|           8.652877|\n",
            "|          ST500LM030|    14479|       9|          22.688031|\n",
            "|         ST6000DX000|   135832|       1|           0.268714|\n",
            "|         ST8000DM002|   888741|      29|           1.191011|\n",
            "|         ST8000DM004|      273|       1|         133.699670|\n",
            "|        ST8000NM0055|  1294451|      58|           1.635442|\n",
            "| TOSHIBA MG07ACA14TA|   109404|       1|           0.333626|\n",
            "|  TOSHIBA MQ01ABF050|    46969|      14|          10.879516|\n",
            "| TOSHIBA MQ01ABF050M|    32624|       3|           3.356425|\n",
            "|      WDC WD5000LPCX|     4920|       2|          14.837398|\n",
            "|      WDC WD5000LPVX|    22015|       2|           3.315921|\n",
            "|        WDC WD60EFRX|    30523|       1|           1.195820|\n",
            "+--------------------+---------+--------+-------------------+\n",
            "\n"
          ],
          "name": "stdout"
        }
      ]
    },
    {
      "cell_type": "code",
      "metadata": {
        "id": "C7knazAo6HxI",
        "colab_type": "code",
        "colab": {},
        "outputId": "b5a9cebe-1ac6-4bf0-8411-308da466515f"
      },
      "source": [
        "q6.printSchema()"
      ],
      "execution_count": null,
      "outputs": [
        {
          "output_type": "stream",
          "text": [
            "root\n",
            " |-- model: string (nullable = true)\n",
            " |-- drivedays: long (nullable = false)\n",
            " |-- failures: long (nullable = false)\n",
            " |-- annual_failure_rate: decimal(38,6) (nullable = true)\n",
            "\n"
          ],
          "name": "stdout"
        }
      ]
    },
    {
      "cell_type": "code",
      "metadata": {
        "id": "Rxsb97lS6HxL",
        "colab_type": "code",
        "colab": {}
      },
      "source": [
        "from pyspark.ml.clustering import KMeans\n",
        "from pyspark.ml.feature import VectorAssembler"
      ],
      "execution_count": null,
      "outputs": []
    },
    {
      "cell_type": "code",
      "metadata": {
        "id": "H7goRZYK6HxQ",
        "colab_type": "code",
        "colab": {},
        "outputId": "80ce9a9b-9b20-4deb-d376-e565b49c9414"
      },
      "source": [
        "vecAssembler = VectorAssembler(inputCols=['annual_failure_rate'], outputCol=\"features\")\n",
        "df_kmeans = vecAssembler.transform(q6).select('model', 'features')\n",
        "df_kmeans.show()"
      ],
      "execution_count": null,
      "outputs": [
        {
          "output_type": "stream",
          "text": [
            "+--------------------+-----------+\n",
            "|               model|   features|\n",
            "+--------------------+-----------+\n",
            "|HGST HMS5C4040ALE640| [0.232942]|\n",
            "|HGST HMS5C4040BLE640| [0.342336]|\n",
            "|HGST HUH721212ALE600| [2.599715]|\n",
            "|HGST HUH721212ALN604| [0.562081]|\n",
            "|HGST HUH728080ALE600| [1.169897]|\n",
            "|       ST10000NM0086| [1.008705]|\n",
            "|       ST12000NM0007| [2.223331]|\n",
            "|         ST4000DM000| [1.963126]|\n",
            "|       ST500LM012 HN| [8.652877]|\n",
            "|          ST500LM030|[22.688031]|\n",
            "|         ST6000DX000| [0.268714]|\n",
            "|         ST8000DM002| [1.191011]|\n",
            "|         ST8000DM004|[133.69967]|\n",
            "|        ST8000NM0055| [1.635442]|\n",
            "| TOSHIBA MG07ACA14TA| [0.333626]|\n",
            "|  TOSHIBA MQ01ABF050|[10.879516]|\n",
            "| TOSHIBA MQ01ABF050M| [3.356425]|\n",
            "|      WDC WD5000LPCX|[14.837398]|\n",
            "|      WDC WD5000LPVX| [3.315921]|\n",
            "|        WDC WD60EFRX|  [1.19582]|\n",
            "+--------------------+-----------+\n",
            "\n"
          ],
          "name": "stdout"
        }
      ]
    },
    {
      "cell_type": "code",
      "metadata": {
        "id": "VAqLaKSu6HxT",
        "colab_type": "code",
        "colab": {},
        "outputId": "4cc34a1b-4a70-40ad-8453-33e5762fd5a1"
      },
      "source": [
        "df_kmeans.printSchema()"
      ],
      "execution_count": null,
      "outputs": [
        {
          "output_type": "stream",
          "text": [
            "root\n",
            " |-- model: string (nullable = true)\n",
            " |-- features: vector (nullable = true)\n",
            "\n"
          ],
          "name": "stdout"
        }
      ]
    },
    {
      "cell_type": "code",
      "metadata": {
        "id": "4lBYVQM76HxV",
        "colab_type": "code",
        "colab": {}
      },
      "source": [
        "from pyspark.ml.feature import StandardScaler\n",
        "Scalerizer=StandardScaler().setInputCol(\"features\").setOutputCol(\"Scaled_features\")\n",
        "df = Scalerizer.fit(df_kmeans).transform(df_kmeans)"
      ],
      "execution_count": null,
      "outputs": []
    },
    {
      "cell_type": "code",
      "metadata": {
        "id": "scEXTtl76HxY",
        "colab_type": "code",
        "colab": {}
      },
      "source": [
        "import numpy as np"
      ],
      "execution_count": null,
      "outputs": []
    },
    {
      "cell_type": "code",
      "metadata": {
        "id": "7NH8uq1U6Hxa",
        "colab_type": "code",
        "colab": {}
      },
      "source": [
        "cost = np.zeros(7)\n",
        "for k in range(2,7):\n",
        "    kmeans = KMeans().setK(k).setSeed(1).setFeaturesCol(\"Scaled_features\")\n",
        "    model = kmeans.fit(df)\n",
        "    cost[k] = model.computeCost(df) "
      ],
      "execution_count": null,
      "outputs": []
    },
    {
      "cell_type": "code",
      "metadata": {
        "id": "WJv3qUjj6Hxc",
        "colab_type": "code",
        "colab": {},
        "outputId": "b1b7b013-d22d-497a-eda6-dcc41c290f44"
      },
      "source": [
        "import matplotlib.pyplot as plt\n",
        "%matplotlib inline\n",
        "fig, ax = plt.subplots(1,1, figsize =(8,6))\n",
        "ax.plot(range(2,7),cost[2:7])\n",
        "ax.set_xlabel('k')\n",
        "ax.set_ylabel('cost')"
      ],
      "execution_count": null,
      "outputs": [
        {
          "output_type": "execute_result",
          "data": {
            "text/plain": [
              "Text(0, 0.5, 'cost')"
            ]
          },
          "metadata": {
            "tags": []
          },
          "execution_count": 19
        },
        {
          "output_type": "display_data",
          "data": {
            "image/png": "[encoded data removed]",
            "text/plain": [
              "<Figure size 576x432 with 1 Axes>"
            ]
          },
          "metadata": {
            "tags": [],
            "needs_background": "light"
          }
        }
      ]
    },
    {
      "cell_type": "code",
      "metadata": {
        "id": "fCw1IAVi6Hxf",
        "colab_type": "code",
        "colab": {},
        "outputId": "7ea19cb7-2ba5-4fb1-c2b2-af9161ceaf9b"
      },
      "source": [
        "k = 4\n",
        "kmeans = KMeans().setK(k).setSeed(1).setFeaturesCol(\"features\")\n",
        "model = kmeans.fit(df_kmeans)\n",
        "centers = model.clusterCenters()\n",
        "\n",
        "print(\"Cluster Centers: \")\n",
        "for center in centers:\n",
        "    print(center)"
      ],
      "execution_count": null,
      "outputs": [
        {
          "output_type": "stream",
          "text": [
            "Cluster Centers: \n",
            "[1.42660613]\n",
            "[133.69967]\n",
            "[22.688031]\n",
            "[11.456597]\n"
          ],
          "name": "stdout"
        }
      ]
    },
    {
      "cell_type": "code",
      "metadata": {
        "id": "4Fb9EgoW6Hxj",
        "colab_type": "code",
        "colab": {},
        "outputId": "f0f12ff5-8aaa-48e2-a34e-6e78fa3f9564"
      },
      "source": [
        "transformed = model.transform(df_kmeans)\n",
        "transformed.show(5)"
      ],
      "execution_count": null,
      "outputs": [
        {
          "output_type": "stream",
          "text": [
            "+--------------------+----------+----------+\n",
            "|               model|  features|prediction|\n",
            "+--------------------+----------+----------+\n",
            "|HGST HMS5C4040ALE640|[0.232942]|         0|\n",
            "|HGST HMS5C4040BLE640|[0.342336]|         0|\n",
            "|HGST HUH721212ALE600|[2.599715]|         0|\n",
            "|HGST HUH721212ALN604|[0.562081]|         0|\n",
            "|HGST HUH728080ALE600|[1.169897]|         0|\n",
            "+--------------------+----------+----------+\n",
            "only showing top 5 rows\n",
            "\n"
          ],
          "name": "stdout"
        }
      ]
    },
    {
      "cell_type": "code",
      "metadata": {
        "id": "QxZfHpKq6Hxm",
        "colab_type": "code",
        "colab": {},
        "outputId": "a85d110e-7157-4f1e-8681-d749c817cf2c"
      },
      "source": [
        "transformed.show()"
      ],
      "execution_count": null,
      "outputs": [
        {
          "output_type": "stream",
          "text": [
            "+--------------------+-----------+----------+\n",
            "|               model|   features|prediction|\n",
            "+--------------------+-----------+----------+\n",
            "|HGST HMS5C4040ALE640| [0.232942]|         0|\n",
            "|HGST HMS5C4040BLE640| [0.342336]|         0|\n",
            "|HGST HUH721212ALE600| [2.599715]|         0|\n",
            "|HGST HUH721212ALN604| [0.562081]|         0|\n",
            "|HGST HUH728080ALE600| [1.169897]|         0|\n",
            "|       ST10000NM0086| [1.008705]|         0|\n",
            "|       ST12000NM0007| [2.223331]|         0|\n",
            "|         ST4000DM000| [1.963126]|         0|\n",
            "|       ST500LM012 HN| [8.652877]|         3|\n",
            "|          ST500LM030|[22.688031]|         2|\n",
            "|         ST6000DX000| [0.268714]|         0|\n",
            "|         ST8000DM002| [1.191011]|         0|\n",
            "|         ST8000DM004|[133.69967]|         1|\n",
            "|        ST8000NM0055| [1.635442]|         0|\n",
            "| TOSHIBA MG07ACA14TA| [0.333626]|         0|\n",
            "|  TOSHIBA MQ01ABF050|[10.879516]|         3|\n",
            "| TOSHIBA MQ01ABF050M| [3.356425]|         0|\n",
            "|      WDC WD5000LPCX|[14.837398]|         3|\n",
            "|      WDC WD5000LPVX| [3.315921]|         0|\n",
            "|        WDC WD60EFRX|  [1.19582]|         0|\n",
            "+--------------------+-----------+----------+\n",
            "\n"
          ],
          "name": "stdout"
        }
      ]
    },
    {
      "cell_type": "code",
      "metadata": {
        "id": "xKEKa-H76Hxq",
        "colab_type": "code",
        "colab": {}
      },
      "source": [
        "df = spark.read.option(\"header\", \"true\").csv(\"C:/data_Q1_2019/*.csv\")\n",
        "\n"
      ],
      "execution_count": null,
      "outputs": []
    },
    {
      "cell_type": "code",
      "metadata": {
        "id": "kcaUe9Be6Hxt",
        "colab_type": "code",
        "colab": {},
        "outputId": "9add22e6-1785-4504-b698-2bcff81b0c14"
      },
      "source": [
        "df = df.withColumn(\"smart_1_normalized\", df[\"smart_1_normalized\"].cast('double'))\n",
        "vecAssembler = VectorAssembler(inputCols=[\"smart_1_normalized\"], outputCol=\"features\")\n",
        "df_kmeans_2 = vecAssembler.setHandleInvalid(\"skip\").transform(df).select('date','serial_number','model', 'features')\n",
        "df_kmeans_2.show()"
      ],
      "execution_count": null,
      "outputs": [
        {
          "output_type": "stream",
          "text": [
            "+----------+--------------+--------------------+--------+\n",
            "|      date| serial_number|               model|features|\n",
            "+----------+--------------+--------------------+--------+\n",
            "|2019-03-05|      Z305B2QN|         ST4000DM000| [117.0]|\n",
            "|2019-03-05|      ZJV0XJQ4|       ST12000NM0007|  [80.0]|\n",
            "|2019-03-05|      ZJV0XJQ3|       ST12000NM0007|  [83.0]|\n",
            "|2019-03-05|      ZJV0XJQ0|       ST12000NM0007|  [81.0]|\n",
            "|2019-03-05|PL1331LAHG1S4H|HGST HMS5C4040ALE640| [100.0]|\n",
            "|2019-03-05|      ZA16NQJR|        ST8000NM0055|  [75.0]|\n",
            "|2019-03-05|      ZJV02XWG|       ST12000NM0007|  [83.0]|\n",
            "|2019-03-05|      ZJV1CSVX|       ST12000NM0007|  [83.0]|\n",
            "|2019-03-05|      ZJV02XWA|       ST12000NM0007|  [78.0]|\n",
            "|2019-03-05|      ZA18CEBS|        ST8000NM0055|  [77.0]|\n",
            "|2019-03-05|      Z305DEMG|         ST4000DM000| [117.0]|\n",
            "|2019-03-05|      ZA130TTW|         ST8000DM002|  [81.0]|\n",
            "|2019-03-05|      ZJV1CSVV|       ST12000NM0007|  [74.0]|\n",
            "|2019-03-05|      ZA18CEBF|        ST8000NM0055|  [80.0]|\n",
            "|2019-03-05|      ZJV02XWV|       ST12000NM0007|  [78.0]|\n",
            "|2019-03-05|PL2331LAG9TEEJ|HGST HMS5C4040ALE640| [100.0]|\n",
            "|2019-03-05|PL2331LAH3WYAJ|HGST HMS5C4040BLE640| [100.0]|\n",
            "|2019-03-05|PL1331LAHG53YH|HGST HMS5C4040BLE640| [100.0]|\n",
            "|2019-03-05|  88Q0A0LGF97G| TOSHIBA MG07ACA14TA| [100.0]|\n",
            "|2019-03-05|PL2331LAHDUVVJ|HGST HMS5C4040BLE640| [100.0]|\n",
            "+----------+--------------+--------------------+--------+\n",
            "only showing top 20 rows\n",
            "\n"
          ],
          "name": "stdout"
        }
      ]
    },
    {
      "cell_type": "code",
      "metadata": {
        "id": "wdXsQCzQ6Hxw",
        "colab_type": "code",
        "colab": {},
        "outputId": "b6e32e04-b136-4097-9f96-b3b6f1089b86"
      },
      "source": [
        "df.printSchema()"
      ],
      "execution_count": null,
      "outputs": [
        {
          "output_type": "stream",
          "text": [
            "root\n",
            " |-- date: string (nullable = true)\n",
            " |-- serial_number: string (nullable = true)\n",
            " |-- model: string (nullable = true)\n",
            " |-- capacity_bytes: string (nullable = true)\n",
            " |-- failure: string (nullable = true)\n",
            " |-- smart_1_normalized: double (nullable = true)\n",
            " |-- smart_1_raw: string (nullable = true)\n",
            " |-- smart_2_normalized: string (nullable = true)\n",
            " |-- smart_2_raw: string (nullable = true)\n",
            " |-- smart_3_normalized: string (nullable = true)\n",
            " |-- smart_3_raw: string (nullable = true)\n",
            " |-- smart_4_normalized: string (nullable = true)\n",
            " |-- smart_4_raw: string (nullable = true)\n",
            " |-- smart_5_normalized: string (nullable = true)\n",
            " |-- smart_5_raw: string (nullable = true)\n",
            " |-- smart_7_normalized: string (nullable = true)\n",
            " |-- smart_7_raw: string (nullable = true)\n",
            " |-- smart_8_normalized: string (nullable = true)\n",
            " |-- smart_8_raw: string (nullable = true)\n",
            " |-- smart_9_normalized: string (nullable = true)\n",
            " |-- smart_9_raw: string (nullable = true)\n",
            " |-- smart_10_normalized: string (nullable = true)\n",
            " |-- smart_10_raw: string (nullable = true)\n",
            " |-- smart_11_normalized: string (nullable = true)\n",
            " |-- smart_11_raw: string (nullable = true)\n",
            " |-- smart_12_normalized: string (nullable = true)\n",
            " |-- smart_12_raw: string (nullable = true)\n",
            " |-- smart_13_normalized: string (nullable = true)\n",
            " |-- smart_13_raw: string (nullable = true)\n",
            " |-- smart_15_normalized: string (nullable = true)\n",
            " |-- smart_15_raw: string (nullable = true)\n",
            " |-- smart_16_normalized: string (nullable = true)\n",
            " |-- smart_16_raw: string (nullable = true)\n",
            " |-- smart_17_normalized: string (nullable = true)\n",
            " |-- smart_17_raw: string (nullable = true)\n",
            " |-- smart_22_normalized: string (nullable = true)\n",
            " |-- smart_22_raw: string (nullable = true)\n",
            " |-- smart_23_normalized: string (nullable = true)\n",
            " |-- smart_23_raw: string (nullable = true)\n",
            " |-- smart_24_normalized: string (nullable = true)\n",
            " |-- smart_24_raw: string (nullable = true)\n",
            " |-- smart_168_normalized: string (nullable = true)\n",
            " |-- smart_168_raw: string (nullable = true)\n",
            " |-- smart_170_normalized: string (nullable = true)\n",
            " |-- smart_170_raw: string (nullable = true)\n",
            " |-- smart_173_normalized: string (nullable = true)\n",
            " |-- smart_173_raw: string (nullable = true)\n",
            " |-- smart_174_normalized: string (nullable = true)\n",
            " |-- smart_174_raw: string (nullable = true)\n",
            " |-- smart_177_normalized: string (nullable = true)\n",
            " |-- smart_177_raw: string (nullable = true)\n",
            " |-- smart_179_normalized: string (nullable = true)\n",
            " |-- smart_179_raw: string (nullable = true)\n",
            " |-- smart_181_normalized: string (nullable = true)\n",
            " |-- smart_181_raw: string (nullable = true)\n",
            " |-- smart_182_normalized: string (nullable = true)\n",
            " |-- smart_182_raw: string (nullable = true)\n",
            " |-- smart_183_normalized: string (nullable = true)\n",
            " |-- smart_183_raw: string (nullable = true)\n",
            " |-- smart_184_normalized: string (nullable = true)\n",
            " |-- smart_184_raw: string (nullable = true)\n",
            " |-- smart_187_normalized: string (nullable = true)\n",
            " |-- smart_187_raw: string (nullable = true)\n",
            " |-- smart_188_normalized: string (nullable = true)\n",
            " |-- smart_188_raw: string (nullable = true)\n",
            " |-- smart_189_normalized: string (nullable = true)\n",
            " |-- smart_189_raw: string (nullable = true)\n",
            " |-- smart_190_normalized: string (nullable = true)\n",
            " |-- smart_190_raw: string (nullable = true)\n",
            " |-- smart_191_normalized: string (nullable = true)\n",
            " |-- smart_191_raw: string (nullable = true)\n",
            " |-- smart_192_normalized: string (nullable = true)\n",
            " |-- smart_192_raw: string (nullable = true)\n",
            " |-- smart_193_normalized: string (nullable = true)\n",
            " |-- smart_193_raw: string (nullable = true)\n",
            " |-- smart_194_normalized: string (nullable = true)\n",
            " |-- smart_194_raw: string (nullable = true)\n",
            " |-- smart_195_normalized: string (nullable = true)\n",
            " |-- smart_195_raw: string (nullable = true)\n",
            " |-- smart_196_normalized: string (nullable = true)\n",
            " |-- smart_196_raw: string (nullable = true)\n",
            " |-- smart_197_normalized: string (nullable = true)\n",
            " |-- smart_197_raw: string (nullable = true)\n",
            " |-- smart_198_normalized: string (nullable = true)\n",
            " |-- smart_198_raw: string (nullable = true)\n",
            " |-- smart_199_normalized: string (nullable = true)\n",
            " |-- smart_199_raw: string (nullable = true)\n",
            " |-- smart_200_normalized: string (nullable = true)\n",
            " |-- smart_200_raw: string (nullable = true)\n",
            " |-- smart_201_normalized: string (nullable = true)\n",
            " |-- smart_201_raw: string (nullable = true)\n",
            " |-- smart_218_normalized: string (nullable = true)\n",
            " |-- smart_218_raw: string (nullable = true)\n",
            " |-- smart_220_normalized: string (nullable = true)\n",
            " |-- smart_220_raw: string (nullable = true)\n",
            " |-- smart_222_normalized: string (nullable = true)\n",
            " |-- smart_222_raw: string (nullable = true)\n",
            " |-- smart_223_normalized: string (nullable = true)\n",
            " |-- smart_223_raw: string (nullable = true)\n",
            " |-- smart_224_normalized: string (nullable = true)\n",
            " |-- smart_224_raw: string (nullable = true)\n",
            " |-- smart_225_normalized: string (nullable = true)\n",
            " |-- smart_225_raw: string (nullable = true)\n",
            " |-- smart_226_normalized: string (nullable = true)\n",
            " |-- smart_226_raw: string (nullable = true)\n",
            " |-- smart_231_normalized: string (nullable = true)\n",
            " |-- smart_231_raw: string (nullable = true)\n",
            " |-- smart_232_normalized: string (nullable = true)\n",
            " |-- smart_232_raw: string (nullable = true)\n",
            " |-- smart_233_normalized: string (nullable = true)\n",
            " |-- smart_233_raw: string (nullable = true)\n",
            " |-- smart_235_normalized: string (nullable = true)\n",
            " |-- smart_235_raw: string (nullable = true)\n",
            " |-- smart_240_normalized: string (nullable = true)\n",
            " |-- smart_240_raw: string (nullable = true)\n",
            " |-- smart_241_normalized: string (nullable = true)\n",
            " |-- smart_241_raw: string (nullable = true)\n",
            " |-- smart_242_normalized: string (nullable = true)\n",
            " |-- smart_242_raw: string (nullable = true)\n",
            " |-- smart_250_normalized: string (nullable = true)\n",
            " |-- smart_250_raw: string (nullable = true)\n",
            " |-- smart_251_normalized: string (nullable = true)\n",
            " |-- smart_251_raw: string (nullable = true)\n",
            " |-- smart_252_normalized: string (nullable = true)\n",
            " |-- smart_252_raw: string (nullable = true)\n",
            " |-- smart_254_normalized: string (nullable = true)\n",
            " |-- smart_254_raw: string (nullable = true)\n",
            " |-- smart_255_normalized: string (nullable = true)\n",
            " |-- smart_255_raw: string (nullable = true)\n",
            "\n"
          ],
          "name": "stdout"
        }
      ]
    },
    {
      "cell_type": "code",
      "metadata": {
        "id": "I-A-zR1l6Hxy",
        "colab_type": "code",
        "colab": {},
        "outputId": "c208fa71-0283-42bd-ea1f-02d98f83166d"
      },
      "source": [
        "df_kmeans_2.printSchema()"
      ],
      "execution_count": null,
      "outputs": [
        {
          "output_type": "stream",
          "text": [
            "root\n",
            " |-- date: string (nullable = true)\n",
            " |-- serial_number: string (nullable = true)\n",
            " |-- model: string (nullable = true)\n",
            " |-- features: vector (nullable = true)\n",
            "\n"
          ],
          "name": "stdout"
        }
      ]
    },
    {
      "cell_type": "code",
      "metadata": {
        "id": "lZ7UbCRd6Hx1",
        "colab_type": "code",
        "colab": {}
      },
      "source": [
        "Scalerizer=StandardScaler().setInputCol(\"features\").setOutputCol(\"Scaled_features\")\n",
        "df = Scalerizer.fit(df_kmeans_2).transform(df_kmeans_2)"
      ],
      "execution_count": null,
      "outputs": []
    },
    {
      "cell_type": "code",
      "metadata": {
        "id": "QF5Fw5Um6Hx2",
        "colab_type": "code",
        "colab": {}
      },
      "source": [
        "cost = np.zeros(7)\n",
        "for k in range(2,7):\n",
        "    kmeans = KMeans().setK(k).setSeed(1).setFeaturesCol(\"Scaled_features\")\n",
        "    model = kmeans.fit(df)\n",
        "    cost[k] = model.computeCost(df) "
      ],
      "execution_count": null,
      "outputs": []
    },
    {
      "cell_type": "code",
      "metadata": {
        "id": "8ga-GZr-6Hx4",
        "colab_type": "code",
        "colab": {},
        "outputId": "bdda7e39-b170-4dbd-bee3-8a998370c461"
      },
      "source": [
        "fig, ax = plt.subplots(1,1, figsize =(8,6))\n",
        "ax.plot(range(2,7),cost[2:7])\n",
        "ax.set_xlabel('k')\n",
        "ax.set_ylabel('cost')"
      ],
      "execution_count": null,
      "outputs": [
        {
          "output_type": "execute_result",
          "data": {
            "text/plain": [
              "Text(0, 0.5, 'cost')"
            ]
          },
          "metadata": {
            "tags": []
          },
          "execution_count": 59
        },
        {
          "output_type": "display_data",
          "data": {
            "image/png": "[encoded data removed]",
            "text/plain": [
              "<Figure size 576x432 with 1 Axes>"
            ]
          },
          "metadata": {
            "tags": [],
            "needs_background": "light"
          }
        }
      ]
    },
    {
      "cell_type": "code",
      "metadata": {
        "id": "nJ1szGwh6Hx6",
        "colab_type": "code",
        "colab": {},
        "outputId": "b0051fc6-cc5d-43e4-e9d6-3a0a29fb430d"
      },
      "source": [
        "k = 5\n",
        "kmeans = KMeans().setK(k).setSeed(1).setFeaturesCol(\"features\")\n",
        "model = kmeans.fit(df)\n",
        "centers = model.clusterCenters()\n",
        "\n",
        "print(\"Cluster Centers: \")\n",
        "for center in centers:\n",
        "    print(center)"
      ],
      "execution_count": null,
      "outputs": [
        {
          "output_type": "stream",
          "text": [
            "Cluster Centers: \n",
            "[100.38512109]\n",
            "[81.49903991]\n",
            "[116.09234413]\n",
            "[199.99904928]\n",
            "[73.74751775]\n"
          ],
          "name": "stdout"
        }
      ]
    },
    {
      "cell_type": "code",
      "metadata": {
        "id": "0xVB2hh36Hx8",
        "colab_type": "code",
        "colab": {},
        "outputId": "b0d8fb08-1c10-4817-8d59-6e6ba42026e3"
      },
      "source": [
        "transformed = model.transform(df)\n",
        "transformed.show()"
      ],
      "execution_count": null,
      "outputs": [
        {
          "output_type": "stream",
          "text": [
            "+----------+--------------+--------------------+--------+--------------------+----------+\n",
            "|      date| serial_number|               model|features|     Scaled_features|prediction|\n",
            "+----------+--------------+--------------------+--------+--------------------+----------+\n",
            "|2019-03-05|      Z305B2QN|         ST4000DM000| [117.0]|[6.7791793233577256]|         2|\n",
            "|2019-03-05|      ZJV0XJQ4|       ST12000NM0007|  [80.0]| [4.635336289475368]|         1|\n",
            "|2019-03-05|      ZJV0XJQ3|       ST12000NM0007|  [83.0]| [4.809161400330694]|         1|\n",
            "|2019-03-05|      ZJV0XJQ0|       ST12000NM0007|  [81.0]|  [4.69327799309381]|         1|\n",
            "|2019-03-05|PL1331LAHG1S4H|HGST HMS5C4040ALE640| [100.0]|  [5.79417036184421]|         0|\n",
            "|2019-03-05|      ZA16NQJR|        ST8000NM0055|  [75.0]| [4.345627771383158]|         4|\n",
            "|2019-03-05|      ZJV02XWG|       ST12000NM0007|  [83.0]| [4.809161400330694]|         1|\n",
            "|2019-03-05|      ZJV1CSVX|       ST12000NM0007|  [83.0]| [4.809161400330694]|         1|\n",
            "|2019-03-05|      ZJV02XWA|       ST12000NM0007|  [78.0]| [4.519452882238483]|         1|\n",
            "|2019-03-05|      ZA18CEBS|        ST8000NM0055|  [77.0]| [4.461511178620042]|         4|\n",
            "|2019-03-05|      Z305DEMG|         ST4000DM000| [117.0]|[6.7791793233577256]|         2|\n",
            "|2019-03-05|      ZA130TTW|         ST8000DM002|  [81.0]|  [4.69327799309381]|         1|\n",
            "|2019-03-05|      ZJV1CSVV|       ST12000NM0007|  [74.0]|[4.2876860677647155]|         4|\n",
            "|2019-03-05|      ZA18CEBF|        ST8000NM0055|  [80.0]| [4.635336289475368]|         1|\n",
            "|2019-03-05|      ZJV02XWV|       ST12000NM0007|  [78.0]| [4.519452882238483]|         1|\n",
            "|2019-03-05|PL2331LAG9TEEJ|HGST HMS5C4040ALE640| [100.0]|  [5.79417036184421]|         0|\n",
            "|2019-03-05|PL2331LAH3WYAJ|HGST HMS5C4040BLE640| [100.0]|  [5.79417036184421]|         0|\n",
            "|2019-03-05|PL1331LAHG53YH|HGST HMS5C4040BLE640| [100.0]|  [5.79417036184421]|         0|\n",
            "|2019-03-05|  88Q0A0LGF97G| TOSHIBA MG07ACA14TA| [100.0]|  [5.79417036184421]|         0|\n",
            "|2019-03-05|PL2331LAHDUVVJ|HGST HMS5C4040BLE640| [100.0]|  [5.79417036184421]|         0|\n",
            "+----------+--------------+--------------------+--------+--------------------+----------+\n",
            "only showing top 20 rows\n",
            "\n"
          ],
          "name": "stdout"
        }
      ]
    },
    {
      "cell_type": "code",
      "metadata": {
        "id": "SF9ooXC86HyB",
        "colab_type": "code",
        "colab": {},
        "outputId": "2614efc8-0be5-4b7a-afec-70391c71cf12"
      },
      "source": [
        "import matplotlib.pyplot as plt\n",
        "\n",
        "\n",
        "twod = plt.scatter(transformed.prediction, transformed.Scaled_features, c=transformed.prediction)\n",
        "twod.set_xlabel('prediction')\n",
        "twod.set_ylabel('features')\n",
        "plt.show()"
      ],
      "execution_count": null,
      "outputs": [
        {
          "output_type": "error",
          "ename": "NameError",
          "evalue": "name 'transformed' is not defined",
          "traceback": [
            "\u001b[1;31m---------------------------------------------------------------------------\u001b[0m",
            "\u001b[1;31mNameError\u001b[0m                                 Traceback (most recent call last)",
            "\u001b[1;32m<ipython-input-1-3c9f843ccc39>\u001b[0m in \u001b[0;36m<module>\u001b[1;34m\u001b[0m\n\u001b[0;32m      2\u001b[0m \u001b[1;33m\u001b[0m\u001b[0m\n\u001b[0;32m      3\u001b[0m \u001b[1;33m\u001b[0m\u001b[0m\n\u001b[1;32m----> 4\u001b[1;33m \u001b[0mtwod\u001b[0m \u001b[1;33m=\u001b[0m \u001b[0mplt\u001b[0m\u001b[1;33m.\u001b[0m\u001b[0mscatter\u001b[0m\u001b[1;33m(\u001b[0m\u001b[0mtransformed\u001b[0m\u001b[1;33m.\u001b[0m\u001b[0mprediction\u001b[0m\u001b[1;33m,\u001b[0m \u001b[0mtransformed\u001b[0m\u001b[1;33m.\u001b[0m\u001b[0mScaled_features\u001b[0m\u001b[1;33m,\u001b[0m \u001b[0mc\u001b[0m\u001b[1;33m=\u001b[0m\u001b[0mtransformed\u001b[0m\u001b[1;33m.\u001b[0m\u001b[0mprediction\u001b[0m\u001b[1;33m)\u001b[0m\u001b[1;33m\u001b[0m\u001b[1;33m\u001b[0m\u001b[0m\n\u001b[0m\u001b[0;32m      5\u001b[0m \u001b[0mtwod\u001b[0m\u001b[1;33m.\u001b[0m\u001b[0mset_xlabel\u001b[0m\u001b[1;33m(\u001b[0m\u001b[1;34m'prediction'\u001b[0m\u001b[1;33m)\u001b[0m\u001b[1;33m\u001b[0m\u001b[1;33m\u001b[0m\u001b[0m\n\u001b[0;32m      6\u001b[0m \u001b[0mtwod\u001b[0m\u001b[1;33m.\u001b[0m\u001b[0mset_ylabel\u001b[0m\u001b[1;33m(\u001b[0m\u001b[1;34m'features'\u001b[0m\u001b[1;33m)\u001b[0m\u001b[1;33m\u001b[0m\u001b[1;33m\u001b[0m\u001b[0m\n",
            "\u001b[1;31mNameError\u001b[0m: name 'transformed' is not defined"
          ]
        }
      ]
    },
    {
      "cell_type": "code",
      "metadata": {
        "id": "OYw90kuk6HyE",
        "colab_type": "code",
        "colab": {}
      },
      "source": [
        ""
      ],
      "execution_count": null,
      "outputs": []
    }
  ]
}